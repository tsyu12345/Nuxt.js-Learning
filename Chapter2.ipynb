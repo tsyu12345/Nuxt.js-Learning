{
 "cells": [
  {
   "attachments": {},
   "cell_type": "markdown",
   "metadata": {},
   "source": [
    "# CHAPTER2 Nuxt.jsによるシンプルなアプリケーション開発"
   ]
  },
  {
   "attachments": {},
   "cell_type": "markdown",
   "metadata": {},
   "source": [
    "## VueCLIによるアプリケーションひな形の作成\n",
    "\n",
    "* VueCLIのインストール\n",
    "```bash\n",
    "npm install @vue/cli @vue/cli-init\n",
    "```\n",
    "* VueCLIによるプロジェクト作成\n",
    "    * 基本コマンド\n",
    "    ```bash\n",
    "    vue init <template-name> <project-name>\n",
    "    ```\n",
    "    * Nuxtテンプレートの利用\n",
    "    ```bash\n",
    "    vue init nuxt-community/starter-template <project-name>\n",
    "    ```\n"
   ]
  },
  {
   "attachments": {},
   "cell_type": "markdown",
   "metadata": {},
   "source": [
    "## 2.9 Nuxt.jsプロジェクトの構成について\n",
    "\n",
    "* assets\n",
    "    * 画像リソース、CSSなどの静的ファイルを配置するディレクトリ\n",
    "    * JavaScript以外のソースファイルを配置する\n",
    "\n",
    "* components\n",
    "  * Vue.jsのコンポーネントを配置するディレクトリ\n",
    "  * Nuxt.jsにおいても通常のVue.jsと同等の扱い\n",
    "\n",
    "* pages\n",
    "  * ページコンポーネントを配置するディレクトリ\n",
    "  * ルーティングに対応するコンポーネントを配置する\n",
    "\n",
    "* static\n",
    "  * webpackなどを介さずに、そのまま公開するファイルを配置するディレクトリ\n",
    "  * ファイル名そのままにroot上に配置する。ファイル名が決まっているものなどを置く。\n",
    "\n",
    "* store\n",
    "  * Vuexストアとそのモジュールを管理する\n",
    "  * ここに配置されているモジュールとストアは、自動的にVuexストアに登録される"
   ]
  },
  {
   "attachments": {},
   "cell_type": "markdown",
   "metadata": {},
   "source": [
    "## 2.10 ルーティングとページコンポーネントの作成\n",
    "\n",
    "動的ルーティングは、ファイル名の接頭辞に`_`を付けることで可能\n",
    "* 動的ルーティングとは、`users/potato04`などのように、パスの一部に変数を含めることができるルーティングのこと\n",
    "  * このようにすることで、Vue側からでも、`$route.params`でパラメータを取得でき、個別ユーザーごとの対応が可能\n",
    "\n",
    "* pages/users/index.vue \n",
    "* pages/users/_id.vue : 動的ルーティングは、ファイル名の接頭辞に`_`を付ける\n",
    "\n",
    "Nuxt.jsは`/, _`から始まるファイルを動的ルーティングとしてあつかう。\n",
    "* ただし、`users/registar`という静的ルーティング（静的ページコンポーネント）がある場合`users/_id.vue`などの動的ページコンポーネントよりも優先的に表示される。\n",
    "  * 静的コンポーネント　＞　動的コンポーネント\n",
    "  "
   ]
  },
  {
   "attachments": {},
   "cell_type": "markdown",
   "metadata": {},
   "source": [
    "## 2.11 動的ルーティングのコンテンツのだし分け\n",
    "\n",
    "動的コンポーネントのパラメータは、`this.$route.params.<id>`で受け取り可能\n",
    "```vue\n",
    "<template>\n",
    "    <div>\n",
    "        <p>\n",
    "            UserID: {{ userId }}\n",
    "        </p>\n",
    "    </div>\n",
    "</template>\n",
    "\n",
    "<script>\n",
    "    export default {\n",
    "        data() {\n",
    "            return {\n",
    "                userId: this.$route.params.id\n",
    "            }\n",
    "        }\n",
    "    }\n",
    "</script>\n",
    "```\n"
   ]
  },
  {
   "attachments": {},
   "cell_type": "markdown",
   "metadata": {},
   "source": [
    "## 2.12 axios-moduleによる外部リソースの取得\n",
    "\n",
    "Nuxtにおいて中心となる、HTTPリクエスト用のライブラリ。\n",
    "\n",
    "```bash\n",
    "npm install @nuxt/axios\n",
    "```\n",
    "インストール後は、`nuxt.config.js`の`module, axios`プロパティを変更する。\n",
    "```js\n",
    "//nuxt.config.js\n",
    "\n",
    "{\n",
    "    ...\n",
    "    modules: [\n",
    "        '@nuxt/axios'\n",
    "    ],\n",
    "    axios: {\n",
    "        ...\n",
    "    }\n",
    "}\n",
    "```"
   ]
  },
  {
   "attachments": {},
   "cell_type": "markdown",
   "metadata": {},
   "source": [
    "## 2.13 承認情報を付与したAPIリクエスト\n",
    "\n",
    "`~/plugins/axios.js`の中に、トークンを付与する処理を記述する。\n",
    "```js\n",
    "// ~/plugins/axios.js\n",
    "export default {\n",
    "    $axios.onReauest((config) =>{\n",
    "        if(process.ecn.QIITA_TOKEN) {\n",
    "            config.headers.common['Authorization'] = process.env.QIITA_TOKEN;\n",
    "        }\n",
    "        return config;\n",
    "    });\n",
    "}\n",
    "```\n",
    "設定したトークンは、`nuxt.config.js`の`env`プロパティで設定する。\n",
    "```js\n",
    "{\n",
    "    ...\n",
    "    env: {\n",
    "        QIITA_TOKEN: process.env.QIITA_TOKEN\n",
    "    }\n",
    "}\n",
    "```\n",
    "Nuxt.js自体はマシンの環境変数にアクセスすることはできないのでNode.jsを介して行う。\n"
   ]
  },
  {
   "attachments": {},
   "cell_type": "markdown",
   "metadata": {},
   "source": [
    "## 2.14 非同期通信を含むコンテンツのSSR\n",
    "\n",
    "Nuxt.jsでは基本的に、asyncDataメソッドを利用して、非同期通信を行い、コンポーネントの構築を行う。\n",
    "```js\n",
    "export default {\n",
    "    asyncData({ $axios }) {\n",
    "        return $axios.$get('https://qiita.com/api/v2/users/potato04')\n",
    "            .then((res) => {\n",
    "                return {\n",
    "                    user: res\n",
    "                }\n",
    "            })\n",
    "            .catch((e) => {\n",
    "                return {\n",
    "                    user: null\n",
    "                }\n",
    "            })\n",
    "    }\n",
    "}\n",
    "```\n",
    "なお、asyncDataに入る情報は、総称として、`context`と呼ばれるオブジェクトに格納されている。"
   ]
  },
  {
   "attachments": {},
   "cell_type": "markdown",
   "metadata": {},
   "source": [
    "## 2.16 headによるメタ情報の設定\n",
    "\n",
    "Nuxt.jsでは、`head`プロパティを利用して、ページのメタ情報を設定することができる。\n",
    "```js\n",
    "export default {\n",
    "    head: {\n",
    "        title: 'Nuxt.jsのサンプル',\n",
    "        meta: [\n",
    "            { charset: 'utf-8' },\n",
    "            { name: 'viewport', content: 'width=device-width, initial-scale=1' },\n",
    "            { hid: 'description', name: 'description', content: 'Nuxt.jsのサンプルです。' }\n",
    "        ]\n",
    "    }\n",
    "}\n",
    "```\n",
    "要するに、`<head>`タグの中身を設定することができる。"
   ]
  },
  {
   "attachments": {},
   "cell_type": "markdown",
   "metadata": {},
   "source": [
    "## 2.17 ロジックのVuexストアへの移譲\n",
    "\n",
    "Vuexストアは、`store`ディレクトリにjsファイルを配置する。\n",
    "```js\n",
    "// store/index.js\n",
    "export default () => {\n",
    "    new Vuex.Store({\n",
    "        state: {\n",
    "            items: []\n",
    "        }\n",
    "    });\n",
    "}\n",
    "```\n"
   ]
  },
  {
   "cell_type": "markdown",
   "metadata": {},
   "source": []
  }
 ],
 "metadata": {
  "kernelspec": {
   "display_name": "Python 3",
   "language": "python",
   "name": "python3"
  },
  "language_info": {
   "name": "python",
   "version": "3.9.1"
  },
  "orig_nbformat": 4,
  "vscode": {
   "interpreter": {
    "hash": "aee8b7b246df8f9039afb4144a1f6fd8d2ca17a180786b69acc140d282b71a49"
   }
  }
 },
 "nbformat": 4,
 "nbformat_minor": 2
}
