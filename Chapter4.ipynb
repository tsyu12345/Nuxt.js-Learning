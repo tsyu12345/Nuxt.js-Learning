{
 "cells": [
  {
   "attachments": {},
   "cell_type": "markdown",
   "metadata": {},
   "source": [
    "# CHAPTER4 中規模以上の開発を意識したNuxt.jsによるWebアプリケーション開発"
   ]
  },
  {
   "attachments": {},
   "cell_type": "markdown",
   "metadata": {},
   "source": [
    "本章では、実際の開発で扱うことの多い、`ElementUI`などの外部ライブラリを実際にNuxt.jsプロジェクトで扱う方法を学び、中規模以上の開発を意識したNuxt.jsによるWebアプリケーション開発を学ぶ。\n",
    "\n",
    "題材として、ここでは複数の機能を持ったブログアプリケーションを作成する。\n",
    "* APIサーバー：Firebase Resltime Database (REST API MODE)\n"
   ]
  },
  {
   "attachments": {},
   "cell_type": "markdown",
   "metadata": {},
   "source": [
    "## 4.26 Firebaseのセットアップ\n",
    "\n",
    "### そもそもFirebaseとは\n",
    "Googleが提供しているモバイル・Webアプリケーション向けのプラットフォーム.\n",
    "* 機能一覧\n",
    "    * ユーザーの行動分析\n",
    "    * デプロイ環境の提供（Firebase Hosting）\n",
    "    * クラウドベースのメッセージ配信機能\n",
    "    * クラウド上に構築されたNoSQLデータベースの提供　などなど\n",
    "\n",
    "###  Firebaseプロジェクトの作成\n",
    "Googleアカウントがあれば、誰でも作ることができる。\n",
    "\n",
    "1. https://console.firebase.google.com/ にアクセスし、`プロジェクトを追加`をクリック\n",
    "2. プロジェクト名を入力し、`作成`をクリック\n",
    "3. 遷移後のプロジェクト画面で、作成するアプリの種類に応じたアイコンをクリック\n",
    "4. `dataURL`の値を控える\n",
    "* この値がREST APIサーバーのアドレスになる\n"
   ]
  },
  {
   "attachments": {},
   "cell_type": "markdown",
   "metadata": {},
   "source": [
    "## 4.27 プロジェクトのスキャフォールディング\n",
    "\n",
    "Nuxt.jsのプロジェクトを作成する際に、これまでの`vue init`よりも高機能な`create-nuxt-app`を使う。\n",
    "\n",
    "### create-nuxt-appによるプロジェクト作成\n",
    "\n",
    "Nuxt.jsの公式コミニュティーによりメンテされている、いわば公式のCLIツール。\n",
    "CLIツールゆえに、グローバルにインスコすることをお勧めする。\n",
    "    \n",
    "    ```bash\n",
    "    $ npm install -g create-nuxt-app\n",
    "    ```\n"
   ]
  }
 ],
 "metadata": {
  "kernelspec": {
   "display_name": "Python 3",
   "language": "python",
   "name": "python3"
  },
  "language_info": {
   "name": "python",
   "version": "3.9.1"
  },
  "orig_nbformat": 4,
  "vscode": {
   "interpreter": {
    "hash": "aee8b7b246df8f9039afb4144a1f6fd8d2ca17a180786b69acc140d282b71a49"
   }
  }
 },
 "nbformat": 4,
 "nbformat_minor": 2
}
