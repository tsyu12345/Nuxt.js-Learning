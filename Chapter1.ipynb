{
 "cells": [
  {
   "attachments": {},
   "cell_type": "markdown",
   "metadata": {},
   "source": [
    "# CHAPTER1 Nuxt.jsの概要"
   ]
  },
  {
   "attachments": {},
   "cell_type": "markdown",
   "metadata": {},
   "source": [
    "# Nuxt.jsの特徴\n",
    "\n",
    "* Vue.jsの公認フレームワーク\n",
    "* ビルド環境など,開発と直接関係ない部分の設定を自動化\n",
    "* 「規約」の存在による開発ルールの統一\n",
    "\n",
    "* Vue.jsのSPA開発ならばほぼ使わない手はない。"
   ]
  }
 ],
 "metadata": {
  "kernelspec": {
   "display_name": "Python 3",
   "language": "python",
   "name": "python3"
  },
  "language_info": {
   "name": "python",
   "version": "3.10.0"
  },
  "orig_nbformat": 4,
  "vscode": {
   "interpreter": {
    "hash": "46e2f2c2539a0f155a9002db048ae27b241bc88e88056a1f76226b4698533502"
   }
  }
 },
 "nbformat": 4,
 "nbformat_minor": 2
}
